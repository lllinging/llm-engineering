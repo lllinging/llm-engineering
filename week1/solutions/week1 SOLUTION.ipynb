{
 "cells": [
  {
   "cell_type": "markdown",
   "id": "fe12c203-e6a6-452c-a655-afb8a03a4ff5",
   "metadata": {},
   "source": [
    "# End of week 1 solution\n",
    "\n",
    "To demonstrate your familiarity with OpenAI API, and also Ollama, build a tool that takes a technical question,  \n",
    "and responds with an explanation. This is a tool that you will be able to use yourself during the course!\n",
    "\n",
    "After week 2 you'll be able to add a User Interface to this tool, giving you a valuable application."
   ]
  },
  {
   "cell_type": "code",
   "execution_count": 1,
   "id": "c1070317-3ed9-4659-abe3-828943230e03",
   "metadata": {},
   "outputs": [],
   "source": [
    "# imports\n",
    "\n",
    "from dotenv import load_dotenv\n",
    "from IPython.display import Markdown, display, update_display\n",
    "from openai import OpenAI\n",
    "import ollama"
   ]
  },
  {
   "cell_type": "code",
   "execution_count": 3,
   "id": "4a456906-915a-4bfd-bb9d-57e505c5093f",
   "metadata": {},
   "outputs": [],
   "source": [
    "# constants\n",
    "\n",
    "MODEL_GPT = 'gpt-4o-mini'\n",
    "MODEL_LLAMA = 'llama3.2'"
   ]
  },
  {
   "cell_type": "code",
   "execution_count": 4,
   "id": "a8d7923c-5f28-4c30-8556-342d7c8497c1",
   "metadata": {},
   "outputs": [],
   "source": [
    "# set up environment\n",
    "\n",
    "load_dotenv()\n",
    "openai = OpenAI()\n"
   ]
  },
  {
   "cell_type": "code",
   "execution_count": 5,
   "id": "3f0d0137-52b0-47a8-81a8-11a90a010798",
   "metadata": {},
   "outputs": [],
   "source": [
    "# here is the question; type over this to ask something new\n",
    "\n",
    "question = \"\"\"\n",
    "Please explain what this code does and why:\n",
    "yield from {book.get(\"author\") for book in books if book.get(\"author\")}\n",
    "\"\"\""
   ]
  },
  {
   "cell_type": "code",
   "execution_count": 6,
   "id": "8595807b-8ae2-4e1b-95d9-e8532142e8bb",
   "metadata": {},
   "outputs": [],
   "source": [
    "# prompts\n",
    "\n",
    "system_prompt = \"You are a helpful technical tutor who answers questions about python code, software engineering, data science and LLMs\"\n",
    "user_prompt = \"Please give a detailed explanation to the following question: \" + question"
   ]
  },
  {
   "cell_type": "code",
   "execution_count": 7,
   "id": "9605cbb6-3d3f-4969-b420-7f4cae0b9328",
   "metadata": {},
   "outputs": [],
   "source": [
    "# messages\n",
    "\n",
    "messages = [\n",
    "    {\"role\": \"system\", \"content\": system_prompt},\n",
    "    {\"role\": \"user\", \"content\": user_prompt}\n",
    "]"
   ]
  },
  {
   "cell_type": "code",
   "execution_count": 8,
   "id": "60ce7000-a4a5-4cce-a261-e75ef45063b4",
   "metadata": {},
   "outputs": [
    {
     "data": {
      "text/markdown": [
       "To understand the code snippet `yield from {book.get(\"author\") for book in books if book.get(\"author\")}`, let's break it down step by step.\n",
       "\n",
       "### Step 1: Breakdown of the Components\n",
       "\n",
       "1. **Set Comprehension**:\n",
       "   - `{book.get(\"author\") for book in books if book.get(\"author\")}` is a set comprehension.\n",
       "   - It iterates over an iterable called `books`, which is presumably a collection (like a list or similar) of dictionaries.\n",
       "   - For each `book` in `books`, it attempts to retrieve the value associated with the key `\"author\"` using `book.get(\"author\")`.\n",
       "   - The `if book.get(\"author\")` part acts as a conditional filter, ensuring that only books with a non-`None` or non-falsy `author` field are included in the resulting set.\n",
       "\n",
       "2. **Set Creation**:\n",
       "   - The result of the set comprehension is a set of authors. Sets in Python are collections that contain only unique elements, which means if any author appears in multiple books, they will only appear once in the resulting set.\n",
       "\n",
       "3. **Yield Statement**:\n",
       "   - `yield from` is a special syntax in Python used with generators. It allows a generator function to yield all values from another iterable (in this case, from the set created).\n",
       "   - When a generator function uses `yield from`, it effectively delegates part of its operations to another iterable (the authors' set, in this case), allowing it to yield multiple values from that iterable.\n",
       "\n",
       "### Step 2: What the Code Does\n",
       "\n",
       "Putting it all together, the line of code processes a collection of book dictionaries (`books`) to extract unique authors and yield each author from a generator function. Here is a more structured breakdown of its functionality:\n",
       "\n",
       "- It collects all authors from the `books` collection.\n",
       "- If a book has an associated author (i.e., the value is not `None` or any falsy value), that author is included in the set.\n",
       "- It eliminates duplicates because a set can only contain unique values.\n",
       "- Using `yield from`, it yields each unique author one at a time to whoever consumes the generator, making it an efficient way to produce results on-the-fly instead of returning a complete list all at once.\n",
       "\n",
       "### Step 3: Usage Context\n",
       "\n",
       "In practical terms, this piece of code might appear within a generator function, which could be defined as follows:\n",
       "\n",
       "python\n",
       "def unique_authors(books):\n",
       "    yield from {book.get(\"author\") for book in books if book.get(\"author\")}\n",
       "\n",
       "\n",
       "For example, if you had a list of books like this:\n",
       "\n",
       "python\n",
       "books = [\n",
       "    {\"title\": \"Book A\", \"author\": \"Author 1\"},\n",
       "    {\"title\": \"Book B\", \"author\": \"Author 2\"},\n",
       "    {\"title\": \"Book C\", \"author\": None},\n",
       "    {\"title\": \"Book D\", \"author\": \"Author 1\"},\n",
       "]\n",
       "\n",
       "\n",
       "Calling `list(unique_authors(books))` would return:\n",
       "\n",
       "\n",
       "['Author 1', 'Author 2']\n",
       "\n",
       "\n",
       "Here, `Author 1` appears only once in the output despite being present in multiple books, illustrating the uniqueness feature of the set.\n",
       "\n",
       "### Summary\n",
       "\n",
       "In summary, the code snippet is a generator expression that efficiently yields unique authors from a list of book dictionaries, filtering out any None or falsy values, and guaranteed to only provide unique authors. It exemplifies the power of set comprehension combined with generator functions for concise and efficient data processing in Python."
      ],
      "text/plain": [
       "<IPython.core.display.Markdown object>"
      ]
     },
     "metadata": {},
     "output_type": "display_data"
    }
   ],
   "source": [
    "# Get gpt-4o-mini to answer, with streaming\n",
    "\n",
    "stream = openai.chat.completions.create(model=MODEL_GPT, messages=messages,stream=True)\n",
    "    \n",
    "response = \"\"\n",
    "display_handle = display(Markdown(\"\"), display_id=True)\n",
    "for chunk in stream:\n",
    "    response += chunk.choices[0].delta.content or ''\n",
    "    response = response.replace(\"```\",\"\").replace(\"markdown\", \"\")\n",
    "    update_display(Markdown(response), display_id=display_handle.display_id)"
   ]
  },
  {
   "cell_type": "code",
   "execution_count": 11,
   "id": "8f7c8ea8-4082-4ad0-8751-3301adcf6538",
   "metadata": {},
   "outputs": [
    {
     "name": "stdout",
     "output_type": "stream",
     "text": [
      "model='llama3.2' created_at='2025-04-19T05:07:34.1342102Z' done=True done_reason='stop' total_duration=15777164700 load_duration=26637300 prompt_eval_count=85 prompt_eval_duration=9702500 eval_count=512 eval_duration=15738947900 message=Message(role='assistant', content='**Code Explanation**\\n\\nThe given code snippet is written in Python and utilizes several advanced features, including:\\n\\n1.  **Dictionary iteration**: The `in` keyword can be used to check if a key exists in a dictionary.\\n2.  **List comprehension**: A concise way of creating lists.\\n3.  **Generator expressions**: A compact way of creating generators.\\n\\nHere\\'s the code snippet with some additional comments for better understanding:\\n\\n```python\\n# Create a generator expression that filters books based on their \\'author\\'\\nfiltered_authors = (\\n    # Use list comprehension to get the author from each book\\n    book.get(\"author\")\\n    # Iterate over all books in the \\'books\\' collection\\n    for book in books\\n    # Check if the \\'author\\' key exists in each book\\n    if book.get(\"author\")\\n)\\n```\\n\\nHowever, there\\'s a more concise way to write this using `yield from`:\\n\\n```python\\n# Use yield from to filter books based on their \\'author\\'\\nyield from (\\n    book.get(\"author\")\\n    # Iterate over all books in the \\'books\\' collection\\n    for book in books\\n    # Check if the \\'author\\' key exists in each book\\n    if book.get(\"author\")\\n)\\n```\\n\\n**What does it do?**\\n\\nThis code creates a generator expression that yields the authors of books where the `author` key exists in the dictionary representation of each book.\\n\\nHere\\'s how you can use this generator expression:\\n\\n```python\\n# Example usage:\\nbooks = [\\n    {\"title\": \"Book 1\", \"author\": \"John\"},\\n    {\"title\": \"Book 2\", \"author\": None},\\n    {\"title\": \"Book 3\", \"author\": \"Jane\"}\\n]\\n\\nfor author in yield from (book.get(\"author\") for book in books if book.get(\"author\")):\\n    print(author)\\n```\\n\\n**Why is it used?**\\n\\nThe `yield from` syntax is useful when you want to create a generator that composes multiple generators. In this case, we\\'re creating a generator that filters the authors of books and then yielding each author individually.\\n\\nUsing `yield from`, we avoid having to manually iterate over the composed generator and instead let Python handle it for us.\\n\\nThis approach provides several benefits:\\n\\n*   It\\'s more concise than using an explicit loop.\\n*   It can improve performance by avoiding unnecessary intermediate collections.\\n*   It makes the code easier to read and understand, as the intent of the `yield from` statement is clear.', images=None, tool_calls=None)\n"
     ]
    },
    {
     "data": {
      "text/markdown": [
       "**Code Explanation**\n",
       "\n",
       "The given code snippet is written in Python and utilizes several advanced features, including:\n",
       "\n",
       "1.  **Dictionary iteration**: The `in` keyword can be used to check if a key exists in a dictionary.\n",
       "2.  **List comprehension**: A concise way of creating lists.\n",
       "3.  **Generator expressions**: A compact way of creating generators.\n",
       "\n",
       "Here's the code snippet with some additional comments for better understanding:\n",
       "\n",
       "```python\n",
       "# Create a generator expression that filters books based on their 'author'\n",
       "filtered_authors = (\n",
       "    # Use list comprehension to get the author from each book\n",
       "    book.get(\"author\")\n",
       "    # Iterate over all books in the 'books' collection\n",
       "    for book in books\n",
       "    # Check if the 'author' key exists in each book\n",
       "    if book.get(\"author\")\n",
       ")\n",
       "```\n",
       "\n",
       "However, there's a more concise way to write this using `yield from`:\n",
       "\n",
       "```python\n",
       "# Use yield from to filter books based on their 'author'\n",
       "yield from (\n",
       "    book.get(\"author\")\n",
       "    # Iterate over all books in the 'books' collection\n",
       "    for book in books\n",
       "    # Check if the 'author' key exists in each book\n",
       "    if book.get(\"author\")\n",
       ")\n",
       "```\n",
       "\n",
       "**What does it do?**\n",
       "\n",
       "This code creates a generator expression that yields the authors of books where the `author` key exists in the dictionary representation of each book.\n",
       "\n",
       "Here's how you can use this generator expression:\n",
       "\n",
       "```python\n",
       "# Example usage:\n",
       "books = [\n",
       "    {\"title\": \"Book 1\", \"author\": \"John\"},\n",
       "    {\"title\": \"Book 2\", \"author\": None},\n",
       "    {\"title\": \"Book 3\", \"author\": \"Jane\"}\n",
       "]\n",
       "\n",
       "for author in yield from (book.get(\"author\") for book in books if book.get(\"author\")):\n",
       "    print(author)\n",
       "```\n",
       "\n",
       "**Why is it used?**\n",
       "\n",
       "The `yield from` syntax is useful when you want to create a generator that composes multiple generators. In this case, we're creating a generator that filters the authors of books and then yielding each author individually.\n",
       "\n",
       "Using `yield from`, we avoid having to manually iterate over the composed generator and instead let Python handle it for us.\n",
       "\n",
       "This approach provides several benefits:\n",
       "\n",
       "*   It's more concise than using an explicit loop.\n",
       "*   It can improve performance by avoiding unnecessary intermediate collections.\n",
       "*   It makes the code easier to read and understand, as the intent of the `yield from` statement is clear."
      ],
      "text/plain": [
       "<IPython.core.display.Markdown object>"
      ]
     },
     "metadata": {},
     "output_type": "display_data"
    }
   ],
   "source": [
    "# Get Llama 3.2 to answer\n",
    "\n",
    "response = ollama.chat(model=MODEL_LLAMA, messages=messages)\n",
    "print(response)\n",
    "reply = response['message']['content']\n",
    "display(Markdown(reply))"
   ]
  },
  {
   "cell_type": "markdown",
   "id": "7e14bcdb-b928-4b14-961e-9f7d8c7335bf",
   "metadata": {},
   "source": [
    "# Congratulations!\n",
    "\n",
    "You could make it better by taking in the question using  \n",
    "`my_question = input(\"Please enter your question:\")`\n",
    "\n",
    "And then creating the prompts and making the calls interactively."
   ]
  },
  {
   "cell_type": "code",
   "execution_count": null,
   "id": "da663d73-dd2a-4fff-84df-2209cf2b330b",
   "metadata": {},
   "outputs": [],
   "source": []
  }
 ],
 "metadata": {
  "kernelspec": {
   "display_name": "Python 3 (ipykernel)",
   "language": "python",
   "name": "python3"
  },
  "language_info": {
   "codemirror_mode": {
    "name": "ipython",
    "version": 3
   },
   "file_extension": ".py",
   "mimetype": "text/x-python",
   "name": "python",
   "nbconvert_exporter": "python",
   "pygments_lexer": "ipython3",
   "version": "3.11.12"
  }
 },
 "nbformat": 4,
 "nbformat_minor": 5
}
